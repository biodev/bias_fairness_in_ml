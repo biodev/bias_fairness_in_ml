{
 "cells": [
  {
   "cell_type": "code",
   "execution_count": 1,
   "id": "50fdbbe6-85ac-4e93-91d8-98b1bd6c40ef",
   "metadata": {},
   "outputs": [],
   "source": [
    "from helpers import get_fl_results_by_site, get_results_by_site\n",
    "\n",
    "from meps_model import DeepNN\n",
    "\n",
    "import pandas as pd\n",
    "\n",
    "import matplotlib.pyplot as plt\n",
    "import seaborn as sns\n",
    "\n",
    "import re\n"
   ]
  },
  {
   "cell_type": "code",
   "execution_count": 2,
   "id": "e0d418f0-01db-47b1-813e-300bf043e2c4",
   "metadata": {},
   "outputs": [],
   "source": [
    "cutoffs = list(map(lambda x: x / 100.0, range(10, 60, 5)))"
   ]
  },
  {
   "cell_type": "code",
   "execution_count": 3,
   "id": "73d2be5e-c9d5-4cf8-9356-83ae09e43c1a",
   "metadata": {},
   "outputs": [
    {
     "name": "stdout",
     "output_type": "stream",
     "text": [
      "checkpoints  metrics.csv\n"
     ]
    }
   ],
   "source": [
    "!ls overall_weighted_logs/lightning_logs/version_0"
   ]
  },
  {
   "cell_type": "code",
   "execution_count": 4,
   "id": "bb16809c-9661-40fd-9db7-825f41a3d6bd",
   "metadata": {},
   "outputs": [
    {
     "name": "stdout",
     "output_type": "stream",
     "text": [
      "Found checkpoint file:overall_standard_logs/lightning_logs/version_0/checkpoints/epoch=21-step=286.ckpt\n",
      "Found checkpoint file:overall_weighted_logs/lightning_logs/version_0/checkpoints/epoch=20-step=273.ckpt\n"
     ]
    }
   ],
   "source": [
    "#First summarize the global model\n",
    "global_res = get_results_by_site('_standard_logs', DeepNN(81), cutoffs, ['overall'])\n",
    "weighted_global_res = get_results_by_site('_weighted_logs', DeepNN(81), cutoffs, ['overall'])\n",
    "\n",
    "global_df = pd.merge(global_res, weighted_global_res, left_index=True, right_index=True, suffixes=('_std', '_weighted'))"
   ]
  },
  {
   "cell_type": "code",
   "execution_count": 5,
   "id": "dcec1fbc-d8ee-4195-b380-251504b28239",
   "metadata": {},
   "outputs": [
    {
     "name": "stdout",
     "output_type": "stream",
     "text": [
      "Found checkpoint file:site_1_standard_logs/lightning_logs/version_0/checkpoints/epoch=30-step=155.ckpt\n",
      "Found checkpoint file:site_2_standard_logs/lightning_logs/version_0/checkpoints/epoch=35-step=180.ckpt\n",
      "Found checkpoint file:site_3_standard_logs/lightning_logs/version_0/checkpoints/epoch=31-step=160.ckpt\n",
      "Found checkpoint file:site_1_weighted_logs/lightning_logs/version_0/checkpoints/epoch=28-step=145.ckpt\n",
      "Found checkpoint file:site_2_weighted_logs/lightning_logs/version_0/checkpoints/epoch=27-step=140.ckpt\n",
      "Found checkpoint file:site_3_weighted_logs/lightning_logs/version_0/checkpoints/epoch=21-step=110.ckpt\n"
     ]
    }
   ],
   "source": [
    "#Next summarize the site-specific models\n",
    "site_res = get_results_by_site('_standard_logs', DeepNN(81), cutoffs, ['site_1', 'site_2', 'site_3'])\n",
    "weighted_site_res = get_results_by_site('_weighted_logs', DeepNN(81), cutoffs, ['site_1', 'site_2', 'site_3'])\n",
    "\n",
    "site_df = pd.merge(site_res, weighted_site_res, left_index=True, right_index=True, suffixes=('_site_std', '_site_weighted'))"
   ]
  },
  {
   "cell_type": "code",
   "execution_count": 6,
   "id": "c6a87c05-ef8b-4d57-bd4b-94d0c9f86c4b",
   "metadata": {},
   "outputs": [
    {
     "name": "stdout",
     "output_type": "stream",
     "text": [
      "Found checkpoint file:nvflare_wkdir/server/simulate_job/app_server/FL_global_model.pt\n",
      "Found checkpoint file:nvflare_weighted_wkdir/server/simulate_job/app_server/FL_global_model.pt\n"
     ]
    }
   ],
   "source": [
    "#The FL results are summarized next \n",
    "fl_res = get_fl_results_by_site(\"nvflare_wkdir\", DeepNN(81), cutoffs, ['site_1', 'site_2', 'site_3'], use_best=False)\n",
    "weighted_fl_res = get_fl_results_by_site(\"nvflare_weighted_wkdir\", DeepNN(81), cutoffs, ['site_1', 'site_2', 'site_3'], use_best=False)\n",
    "\n",
    "fl_df = pd.merge(fl_res, weighted_fl_res, left_index=True, right_index=True, suffixes=('_fl_std', '_fl_weighted'))"
   ]
  },
  {
   "cell_type": "code",
   "execution_count": 7,
   "id": "437c2633-4ed4-4584-9389-9258078bebcb",
   "metadata": {},
   "outputs": [
    {
     "data": {
      "text/html": [
       "<div>\n",
       "<style scoped>\n",
       "    .dataframe tbody tr th:only-of-type {\n",
       "        vertical-align: middle;\n",
       "    }\n",
       "\n",
       "    .dataframe tbody tr th {\n",
       "        vertical-align: top;\n",
       "    }\n",
       "\n",
       "    .dataframe thead th {\n",
       "        text-align: right;\n",
       "    }\n",
       "</style>\n",
       "<table border=\"1\" class=\"dataframe\">\n",
       "  <thead>\n",
       "    <tr style=\"text-align: right;\">\n",
       "      <th></th>\n",
       "      <th>bacc</th>\n",
       "      <th>eo</th>\n",
       "    </tr>\n",
       "  </thead>\n",
       "  <tbody>\n",
       "    <tr>\n",
       "      <th>site_1</th>\n",
       "      <td>0.757534</td>\n",
       "      <td>0.813954</td>\n",
       "    </tr>\n",
       "    <tr>\n",
       "      <th>site_2</th>\n",
       "      <td>0.760666</td>\n",
       "      <td>0.933870</td>\n",
       "    </tr>\n",
       "    <tr>\n",
       "      <th>site_3</th>\n",
       "      <td>0.809909</td>\n",
       "      <td>0.842607</td>\n",
       "    </tr>\n",
       "  </tbody>\n",
       "</table>\n",
       "</div>"
      ],
      "text/plain": [
       "            bacc        eo\n",
       "site_1  0.757534  0.813954\n",
       "site_2  0.760666  0.933870\n",
       "site_3  0.809909  0.842607"
      ]
     },
     "execution_count": 7,
     "metadata": {},
     "output_type": "execute_result"
    }
   ],
   "source": [
    "fl_res"
   ]
  },
  {
   "cell_type": "code",
   "execution_count": 8,
   "id": "5c64f2e6-a3fb-4420-88ee-f4f2eb925a66",
   "metadata": {},
   "outputs": [],
   "source": [
    "#Finally combine the per-site results into a table"
   ]
  },
  {
   "cell_type": "code",
   "execution_count": 9,
   "id": "d4f1e08a-dce1-4f8a-9a68-6ee6b2116de0",
   "metadata": {},
   "outputs": [],
   "source": [
    "comb_df = pd.merge(site_df, fl_df, left_index=True, right_index=True)"
   ]
  },
  {
   "cell_type": "code",
   "execution_count": 10,
   "id": "f6159214-9d22-45fc-9a89-863c7e06ed28",
   "metadata": {},
   "outputs": [
    {
     "data": {
      "text/html": [
       "<div>\n",
       "<style scoped>\n",
       "    .dataframe tbody tr th:only-of-type {\n",
       "        vertical-align: middle;\n",
       "    }\n",
       "\n",
       "    .dataframe tbody tr th {\n",
       "        vertical-align: top;\n",
       "    }\n",
       "\n",
       "    .dataframe thead th {\n",
       "        text-align: right;\n",
       "    }\n",
       "</style>\n",
       "<table border=\"1\" class=\"dataframe\">\n",
       "  <thead>\n",
       "    <tr style=\"text-align: right;\">\n",
       "      <th></th>\n",
       "      <th>bacc_site_std</th>\n",
       "      <th>eo_site_std</th>\n",
       "      <th>bacc_site_weighted</th>\n",
       "      <th>eo_site_weighted</th>\n",
       "      <th>bacc_fl_std</th>\n",
       "      <th>eo_fl_std</th>\n",
       "      <th>bacc_fl_weighted</th>\n",
       "      <th>eo_fl_weighted</th>\n",
       "    </tr>\n",
       "  </thead>\n",
       "  <tbody>\n",
       "    <tr>\n",
       "      <th>site_1</th>\n",
       "      <td>0.754566</td>\n",
       "      <td>0.744186</td>\n",
       "      <td>0.771537</td>\n",
       "      <td>0.767442</td>\n",
       "      <td>0.757534</td>\n",
       "      <td>0.813954</td>\n",
       "      <td>0.741857</td>\n",
       "      <td>0.809524</td>\n",
       "    </tr>\n",
       "    <tr>\n",
       "      <th>site_2</th>\n",
       "      <td>0.780729</td>\n",
       "      <td>0.825553</td>\n",
       "      <td>0.762602</td>\n",
       "      <td>0.980415</td>\n",
       "      <td>0.760666</td>\n",
       "      <td>0.933870</td>\n",
       "      <td>0.760950</td>\n",
       "      <td>0.979680</td>\n",
       "    </tr>\n",
       "    <tr>\n",
       "      <th>site_3</th>\n",
       "      <td>0.803214</td>\n",
       "      <td>0.906233</td>\n",
       "      <td>0.799190</td>\n",
       "      <td>0.938842</td>\n",
       "      <td>0.809909</td>\n",
       "      <td>0.842607</td>\n",
       "      <td>0.797216</td>\n",
       "      <td>0.976658</td>\n",
       "    </tr>\n",
       "  </tbody>\n",
       "</table>\n",
       "</div>"
      ],
      "text/plain": [
       "        bacc_site_std  eo_site_std  bacc_site_weighted  eo_site_weighted  \\\n",
       "site_1       0.754566     0.744186            0.771537          0.767442   \n",
       "site_2       0.780729     0.825553            0.762602          0.980415   \n",
       "site_3       0.803214     0.906233            0.799190          0.938842   \n",
       "\n",
       "        bacc_fl_std  eo_fl_std  bacc_fl_weighted  eo_fl_weighted  \n",
       "site_1     0.757534   0.813954          0.741857        0.809524  \n",
       "site_2     0.760666   0.933870          0.760950        0.979680  \n",
       "site_3     0.809909   0.842607          0.797216        0.976658  "
      ]
     },
     "execution_count": 10,
     "metadata": {},
     "output_type": "execute_result"
    }
   ],
   "source": [
    "comb_df"
   ]
  },
  {
   "cell_type": "code",
   "execution_count": 11,
   "id": "2c946ac6-6b3b-4aff-a89a-25dc3e7bd4a1",
   "metadata": {},
   "outputs": [
    {
     "data": {
      "text/html": [
       "<div>\n",
       "<style scoped>\n",
       "    .dataframe tbody tr th:only-of-type {\n",
       "        vertical-align: middle;\n",
       "    }\n",
       "\n",
       "    .dataframe tbody tr th {\n",
       "        vertical-align: top;\n",
       "    }\n",
       "\n",
       "    .dataframe thead th {\n",
       "        text-align: right;\n",
       "    }\n",
       "</style>\n",
       "<table border=\"1\" class=\"dataframe\">\n",
       "  <thead>\n",
       "    <tr style=\"text-align: right;\">\n",
       "      <th></th>\n",
       "      <th>bacc_std</th>\n",
       "      <th>eo_std</th>\n",
       "      <th>bacc_weighted</th>\n",
       "      <th>eo_weighted</th>\n",
       "    </tr>\n",
       "  </thead>\n",
       "  <tbody>\n",
       "    <tr>\n",
       "      <th>overall</th>\n",
       "      <td>0.778851</td>\n",
       "      <td>0.739033</td>\n",
       "      <td>0.756479</td>\n",
       "      <td>0.98248</td>\n",
       "    </tr>\n",
       "  </tbody>\n",
       "</table>\n",
       "</div>"
      ],
      "text/plain": [
       "         bacc_std    eo_std  bacc_weighted  eo_weighted\n",
       "overall  0.778851  0.739033       0.756479      0.98248"
      ]
     },
     "execution_count": 11,
     "metadata": {},
     "output_type": "execute_result"
    }
   ],
   "source": [
    "global_df"
   ]
  },
  {
   "cell_type": "code",
   "execution_count": 12,
   "id": "032e0ece-f78f-4eb6-884e-963a9ac30db8",
   "metadata": {},
   "outputs": [],
   "source": [
    "comb_df.reset_index(inplace=True)"
   ]
  },
  {
   "cell_type": "code",
   "execution_count": 13,
   "id": "aea1e12c-7bcb-41b7-a462-e237e432a4eb",
   "metadata": {},
   "outputs": [],
   "source": [
    "melted_comb_df = comb_df.melt(id_vars=['index'])"
   ]
  },
  {
   "cell_type": "code",
   "execution_count": 14,
   "id": "58cf938c-5be2-42c0-b05f-1c11e4c6219b",
   "metadata": {},
   "outputs": [
    {
     "data": {
      "text/html": [
       "<div>\n",
       "<style scoped>\n",
       "    .dataframe tbody tr th:only-of-type {\n",
       "        vertical-align: middle;\n",
       "    }\n",
       "\n",
       "    .dataframe tbody tr th {\n",
       "        vertical-align: top;\n",
       "    }\n",
       "\n",
       "    .dataframe thead th {\n",
       "        text-align: right;\n",
       "    }\n",
       "</style>\n",
       "<table border=\"1\" class=\"dataframe\">\n",
       "  <thead>\n",
       "    <tr style=\"text-align: right;\">\n",
       "      <th></th>\n",
       "      <th>index</th>\n",
       "      <th>variable</th>\n",
       "      <th>value</th>\n",
       "      <th>measure</th>\n",
       "      <th>model</th>\n",
       "      <th>type</th>\n",
       "    </tr>\n",
       "  </thead>\n",
       "  <tbody>\n",
       "    <tr>\n",
       "      <th>0</th>\n",
       "      <td>site_1</td>\n",
       "      <td>bacc_site_std</td>\n",
       "      <td>0.754566</td>\n",
       "      <td>bacc</td>\n",
       "      <td>site</td>\n",
       "      <td>std</td>\n",
       "    </tr>\n",
       "    <tr>\n",
       "      <th>1</th>\n",
       "      <td>site_2</td>\n",
       "      <td>bacc_site_std</td>\n",
       "      <td>0.780729</td>\n",
       "      <td>bacc</td>\n",
       "      <td>site</td>\n",
       "      <td>std</td>\n",
       "    </tr>\n",
       "    <tr>\n",
       "      <th>2</th>\n",
       "      <td>site_3</td>\n",
       "      <td>bacc_site_std</td>\n",
       "      <td>0.803214</td>\n",
       "      <td>bacc</td>\n",
       "      <td>site</td>\n",
       "      <td>std</td>\n",
       "    </tr>\n",
       "    <tr>\n",
       "      <th>3</th>\n",
       "      <td>site_1</td>\n",
       "      <td>eo_site_std</td>\n",
       "      <td>0.744186</td>\n",
       "      <td>eo</td>\n",
       "      <td>site</td>\n",
       "      <td>std</td>\n",
       "    </tr>\n",
       "    <tr>\n",
       "      <th>4</th>\n",
       "      <td>site_2</td>\n",
       "      <td>eo_site_std</td>\n",
       "      <td>0.825553</td>\n",
       "      <td>eo</td>\n",
       "      <td>site</td>\n",
       "      <td>std</td>\n",
       "    </tr>\n",
       "  </tbody>\n",
       "</table>\n",
       "</div>"
      ],
      "text/plain": [
       "    index       variable     value measure model type\n",
       "0  site_1  bacc_site_std  0.754566    bacc  site  std\n",
       "1  site_2  bacc_site_std  0.780729    bacc  site  std\n",
       "2  site_3  bacc_site_std  0.803214    bacc  site  std\n",
       "3  site_1    eo_site_std  0.744186      eo  site  std\n",
       "4  site_2    eo_site_std  0.825553      eo  site  std"
      ]
     },
     "execution_count": 14,
     "metadata": {},
     "output_type": "execute_result"
    }
   ],
   "source": [
    "melted_comb_df[['measure', 'model', 'type']] = melted_comb_df['variable'].str.split('_', expand=True)\n",
    "melted_comb_df.head()"
   ]
  },
  {
   "cell_type": "code",
   "execution_count": 15,
   "id": "5e32e2b1-3336-4b07-aa0c-460b7e99921f",
   "metadata": {},
   "outputs": [
    {
     "data": {
      "image/png": "[encoded data removed]",
      "text/plain": [
       "<Figure size 1075x1000 with 4 Axes>"
      ]
     },
     "metadata": {},
     "output_type": "display_data"
    }
   ],
   "source": [
    "title_re = re.compile('measure = (\\w+) \\| type = (\\w+)')\n",
    "\n",
    "global_dict = global_df.to_dict()\n",
    "\n",
    "g = sns.catplot(data=melted_comb_df, x='index', y='value', hue='model', col='type', row='measure', kind='bar', errorbar=None)\n",
    "\n",
    "axes = g.axes.flatten()\n",
    "\n",
    "for i, ax in enumerate(axes):\n",
    "    title = ax.get_title()\n",
    "    title_match = title_re.search(title)\n",
    "    \n",
    "    line_pos = global_dict[title_match.group(1) + '_' + title_match.group(2)]['overall']\n",
    "    ax.axhline(line_pos, ls='--', c='black')\n",
    "    if (title_match.group(1) == \"bacc\") and (title_match.group(2) == \"std\"): \n",
    "        ax.set_ylabel('Balanced Accuracy')\n",
    "    elif (title_match.group(1) == \"eo\") and (title_match.group(2) == \"std\"):\n",
    "        ax.set_ylabel('Equal Opportunity')\n",
    "\n",
    "    ax.set_xlabel(\"\")\n",
    "\n",
    "g._legend.set(title='Model')\n",
    "\n",
    "plt.show()\n",
    "\n"
   ]
  },
  {
   "cell_type": "code",
   "execution_count": null,
   "id": "f90afb67-353b-417d-b41b-abb347ca7c67",
   "metadata": {},
   "outputs": [],
   "source": []
  }
 ],
 "metadata": {
  "kernelspec": {
   "display_name": "Python 3 (ipykernel)",
   "language": "python",
   "name": "python3"
  },
  "language_info": {
   "codemirror_mode": {
    "name": "ipython",
    "version": 3
   },
   "file_extension": ".py",
   "mimetype": "text/x-python",
   "name": "python",
   "nbconvert_exporter": "python",
   "pygments_lexer": "ipython3",
   "version": "3.10.12"
  }
 },
 "nbformat": 4,
 "nbformat_minor": 5
}
